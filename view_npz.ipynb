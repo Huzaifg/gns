{
 "cells": [
  {
   "cell_type": "markdown",
   "id": "35cd8b20-d3bb-423b-b6b1-6b5e611c57db",
   "metadata": {},
   "source": [
    "# View `.npz`\n",
    "\n",
    "> Joseph P. Vantassel, The University of Texas at Austin"
   ]
  },
  {
   "cell_type": "code",
   "execution_count": null,
   "id": "79a12f22-061f-4a7f-9d90-90857fbc2514",
   "metadata": {},
   "outputs": [],
   "source": [
    "import numpy as np\n",
    "import matplotlib.pyplot as plt"
   ]
  },
  {
   "cell_type": "markdown",
   "id": "f3f224be-89df-4648-952b-7067b2de9c7f",
   "metadata": {},
   "source": [
    "## Import `.npz` saved from `gns/train.py`"
   ]
  },
  {
   "cell_type": "code",
   "execution_count": null,
   "id": "26f71fa7-c893-4237-bd29-d5e4ab35f90a",
   "metadata": {},
   "outputs": [],
   "source": [
    "loaded = np.load(\"train.npz\")"
   ]
  },
  {
   "cell_type": "code",
   "execution_count": null,
   "id": "305a27b7-7616-417e-8b7c-fd29894c7f5e",
   "metadata": {},
   "outputs": [],
   "source": [
    "for idx, key in enumerate(loaded.keys()):\n",
    "    if idx % 100 == 0:\n",
    "        print(key)"
   ]
  },
  {
   "cell_type": "markdown",
   "id": "8cec4c0e-6e4a-4c8b-bb2d-b213f1dfa583",
   "metadata": {},
   "source": [
    "## Confirm `label` is just the next step"
   ]
  },
  {
   "cell_type": "code",
   "execution_count": null,
   "id": "cf8418ff-fa88-4a7b-b4a2-023a23889a45",
   "metadata": {},
   "outputs": [],
   "source": [
    "trajectory = 10\n",
    "value, label = loaded[f\"position_{trajectory}\"], loaded[f\"label_{trajectory}\"]\n",
    "\n",
    "step = 10\n",
    "\n",
    "fig, ax = plt.subplots(figsize=(3,3), dpi=150)\n",
    "ax.scatter(value[step, :, 0, 0], value[step, :, 0, 1], s=0.5)\n",
    "ax.scatter(label[step, :, 0], label[step, :, 1], s=0.5)\n",
    "ax.scatter(value[step+1, :, 0, 0], value[step+1, :, 0, 1], s=0.5, alpha=0.5)\n",
    "ax.set_xlim(0.1, 0.9)\n",
    "ax.set_ylim(0.1, 0.9)\n",
    "ax.set_xticks([])\n",
    "ax.set_yticks([])\n",
    "\n",
    "plt.show() "
   ]
  },
  {
   "cell_type": "markdown",
   "id": "aec17d22-e182-4bf3-9dbb-a6600b0cdbb4",
   "metadata": {},
   "source": [
    "## Check `particle_type` does not change across trajectory."
   ]
  },
  {
   "cell_type": "code",
   "execution_count": null,
   "id": "c1bb37bf-95be-45f5-bfd7-6e5363f88676",
   "metadata": {},
   "outputs": [],
   "source": [
    "for idx in range(1000):\n",
    "    ptype = loaded[f\"particle_type_{idx}\"]\n",
    "\n",
    "    a = ptype[0, :]\n",
    "    for b in ptype:\n",
    "        if not np.allclose(a, b.squeeze()):\n",
    "            print(\"a and b are not close\")\n",
    "            print(a, b)\n",
    "            break"
   ]
  },
  {
   "cell_type": "markdown",
   "id": "c07379e8-69b3-4799-82ce-941292eb840c",
   "metadata": {},
   "source": [
    "## Check a given trajectory."
   ]
  },
  {
   "cell_type": "code",
   "execution_count": null,
   "id": "1442767f-3b87-43fa-b97e-bb7edb7d1224",
   "metadata": {},
   "outputs": [],
   "source": [
    "# need this line if you're using jupyter notebooks\n",
    "%matplotlib qt5\n",
    "\n",
    "x = [] # Some array of images\n",
    "fig, ax = plt.subplots(figsize=(5,5), dpi=150)\n",
    "plt.ion() # Turns interactive mode on (probably unnecessary)\n",
    "fig.show() # Initially shows the figure\n",
    "\n",
    "for values in loaded[\"position_100\"]:\n",
    "    ax.clear() # Clears the previous image\n",
    "    ax.scatter(values[:, 0, 0], values[:, 0, 1], s=0.5) # Loads the new image\n",
    "    ax.set_xlim(0.1, 0.9)\n",
    "    ax.set_ylim(0.1, 0.9)\n",
    "    plt.pause(.000001) # Delay in seconds\n",
    "    fig.canvas.draw() # Draws the image to the screen\n",
    "\n",
    "plt.close()  "
   ]
  },
  {
   "cell_type": "markdown",
   "id": "9fe2107d-7484-4e4b-bc46-c835197c4c8f",
   "metadata": {},
   "source": [
    "## Write `position` and `particle_type` to simplified `npz`"
   ]
  },
  {
   "cell_type": "code",
   "execution_count": null,
   "id": "4f90ff4c-d04a-4496-b8af-6d3a3b99bc51",
   "metadata": {},
   "outputs": [],
   "source": [
    "dataset = {}\n",
    "for key in loaded.keys():\n",
    "    if not key.startswith(\"position\"):\n",
    "        continue\n",
    "    \n",
    "    position_number = int(key[len(\"position_\"):])\n",
    "    \n",
    "    dataset[f'simulation_trajectory_{position_number}'] = (loaded[f\"position_{position_number}\"].squeeze(),\n",
    "                                                           loaded[f\"particle_type_{position_number}\"][0])\n",
    "\n",
    "np.savez_compressed(\"train_sand.npz\", **dataset)"
   ]
  },
  {
   "cell_type": "code",
   "execution_count": null,
   "id": "eba44b82-fa78-44ea-87d1-72fb646ea5d2",
   "metadata": {},
   "outputs": [],
   "source": []
  }
 ],
 "metadata": {
  "kernelspec": {
   "display_name": "Python 3 (ipykernel)",
   "language": "python",
   "name": "python3"
  },
  "language_info": {
   "codemirror_mode": {
    "name": "ipython",
    "version": 3
   },
   "file_extension": ".py",
   "mimetype": "text/x-python",
   "name": "python",
   "nbconvert_exporter": "python",
   "pygments_lexer": "ipython3",
   "version": "3.8.9"
  }
 },
 "nbformat": 4,
 "nbformat_minor": 5
}
